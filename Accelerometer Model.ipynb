{
 "cells": [
  {
   "cell_type": "code",
   "execution_count": 2,
   "id": "d375351f",
   "metadata": {},
   "outputs": [],
   "source": [
    "import pandas as pd\n",
    "import matplotlib.pyplot as plt\n",
    "import seaborn as sns\n",
    "from glob import glob\n",
    "import re"
   ]
  },
  {
   "cell_type": "code",
   "execution_count": 3,
   "id": "339f1807",
   "metadata": {},
   "outputs": [],
   "source": [
    "#Reading Data\n",
    "\n",
    "files_path=glob(\"/Users/karthikeyanmanoharan/Downloads/Activity Recognition/*.csv\")\n",
    "\n",
    "def Dataframe(files_path):\n",
    "    df_participants=pd.DataFrame()\n",
    "    for index,file_path in enumerate(files_path):\n",
    "        df=pd.read_csv(file_path,header=None)\n",
    "        df[\"User_id\"]=int(re.sub(r'[^0-9]',\"\",file_path))\n",
    "        df_participants=df_participants.append(df.iloc[:,1:])\n",
    "    return df_participants\n",
    "\n",
    "data=Dataframe(files_path)\n",
    "data.columns=['x_acceleration','y_acceleration','z_acceleration','Label','User_id']\n",
    "data.index=range(len(data))\n",
    "\n",
    "data=data.reindex(columns=[\"User_id\",\"x_acceleration\",\"y_acceleration\",\"z_acceleration\",\"Label\"])"
   ]
  },
  {
   "cell_type": "code",
   "execution_count": 4,
   "id": "a8b5c129",
   "metadata": {},
   "outputs": [
    {
     "data": {
      "text/plain": [
       "(1926896, 5)"
      ]
     },
     "execution_count": 4,
     "metadata": {},
     "output_type": "execute_result"
    }
   ],
   "source": [
    "data.shape"
   ]
  },
  {
   "cell_type": "code",
   "execution_count": 5,
   "id": "234f81a1",
   "metadata": {},
   "outputs": [
    {
     "data": {
      "text/html": [
       "<div>\n",
       "<style scoped>\n",
       "    .dataframe tbody tr th:only-of-type {\n",
       "        vertical-align: middle;\n",
       "    }\n",
       "\n",
       "    .dataframe tbody tr th {\n",
       "        vertical-align: top;\n",
       "    }\n",
       "\n",
       "    .dataframe thead th {\n",
       "        text-align: right;\n",
       "    }\n",
       "</style>\n",
       "<table border=\"1\" class=\"dataframe\">\n",
       "  <thead>\n",
       "    <tr style=\"text-align: right;\">\n",
       "      <th></th>\n",
       "      <th>User_id</th>\n",
       "      <th>x_acceleration</th>\n",
       "      <th>y_acceleration</th>\n",
       "      <th>z_acceleration</th>\n",
       "      <th>Label</th>\n",
       "    </tr>\n",
       "  </thead>\n",
       "  <tbody>\n",
       "    <tr>\n",
       "      <th>0</th>\n",
       "      <td>6</td>\n",
       "      <td>1953</td>\n",
       "      <td>1979</td>\n",
       "      <td>1629</td>\n",
       "      <td>1</td>\n",
       "    </tr>\n",
       "    <tr>\n",
       "      <th>1</th>\n",
       "      <td>6</td>\n",
       "      <td>1950</td>\n",
       "      <td>1987</td>\n",
       "      <td>1640</td>\n",
       "      <td>1</td>\n",
       "    </tr>\n",
       "    <tr>\n",
       "      <th>2</th>\n",
       "      <td>6</td>\n",
       "      <td>1957</td>\n",
       "      <td>1979</td>\n",
       "      <td>1635</td>\n",
       "      <td>1</td>\n",
       "    </tr>\n",
       "    <tr>\n",
       "      <th>3</th>\n",
       "      <td>6</td>\n",
       "      <td>1958</td>\n",
       "      <td>1977</td>\n",
       "      <td>1639</td>\n",
       "      <td>1</td>\n",
       "    </tr>\n",
       "    <tr>\n",
       "      <th>4</th>\n",
       "      <td>6</td>\n",
       "      <td>1954</td>\n",
       "      <td>1981</td>\n",
       "      <td>1641</td>\n",
       "      <td>1</td>\n",
       "    </tr>\n",
       "  </tbody>\n",
       "</table>\n",
       "</div>"
      ],
      "text/plain": [
       "   User_id  x_acceleration  y_acceleration  z_acceleration  Label\n",
       "0        6            1953            1979            1629      1\n",
       "1        6            1950            1987            1640      1\n",
       "2        6            1957            1979            1635      1\n",
       "3        6            1958            1977            1639      1\n",
       "4        6            1954            1981            1641      1"
      ]
     },
     "execution_count": 5,
     "metadata": {},
     "output_type": "execute_result"
    }
   ],
   "source": [
    "data.head()"
   ]
  },
  {
   "cell_type": "code",
   "execution_count": 69,
   "id": "7ebf636a",
   "metadata": {},
   "outputs": [
    {
     "data": {
      "text/plain": [
       "User_id           0\n",
       "x_acceleration    0\n",
       "y_acceleration    0\n",
       "z_acceleration    0\n",
       "Label             0\n",
       "dtype: int64"
      ]
     },
     "execution_count": 69,
     "metadata": {},
     "output_type": "execute_result"
    }
   ],
   "source": [
    "data.isnull().sum()"
   ]
  },
  {
   "cell_type": "code",
   "execution_count": 6,
   "id": "7b74d870",
   "metadata": {},
   "outputs": [
    {
     "name": "stdout",
     "output_type": "stream",
     "text": [
      "<class 'pandas.core.frame.DataFrame'>\n",
      "RangeIndex: 1926896 entries, 0 to 1926895\n",
      "Data columns (total 5 columns):\n",
      " #   Column          Dtype\n",
      "---  ------          -----\n",
      " 0   User_id         int64\n",
      " 1   x_acceleration  int64\n",
      " 2   y_acceleration  int64\n",
      " 3   z_acceleration  int64\n",
      " 4   Label           int64\n",
      "dtypes: int64(5)\n",
      "memory usage: 73.5 MB\n"
     ]
    }
   ],
   "source": [
    "data.info()"
   ]
  },
  {
   "cell_type": "code",
   "execution_count": 6,
   "id": "888f4bb1",
   "metadata": {},
   "outputs": [],
   "source": [
    "#Converting the Label column(target) to categorical column \n",
    "data['Label']=data['Label'].astype(\"category\")"
   ]
  },
  {
   "cell_type": "code",
   "execution_count": 32,
   "id": "9d73f2b6",
   "metadata": {},
   "outputs": [
    {
     "name": "stdout",
     "output_type": "stream",
     "text": [
      "<class 'pandas.core.frame.DataFrame'>\n",
      "Int64Index: 1923177 entries, 0 to 1926894\n",
      "Data columns (total 5 columns):\n",
      " #   Column          Dtype   \n",
      "---  ------          -----   \n",
      " 0   User_id         int64   \n",
      " 1   x_acceleration  int64   \n",
      " 2   y_acceleration  int64   \n",
      " 3   z_acceleration  int64   \n",
      " 4   Label           category\n",
      "dtypes: category(1), int64(4)\n",
      "memory usage: 75.2 MB\n"
     ]
    }
   ],
   "source": [
    "data.info()"
   ]
  },
  {
   "cell_type": "code",
   "execution_count": 33,
   "id": "501bdecc",
   "metadata": {},
   "outputs": [
    {
     "data": {
      "text/html": [
       "<div>\n",
       "<style scoped>\n",
       "    .dataframe tbody tr th:only-of-type {\n",
       "        vertical-align: middle;\n",
       "    }\n",
       "\n",
       "    .dataframe tbody tr th {\n",
       "        vertical-align: top;\n",
       "    }\n",
       "\n",
       "    .dataframe thead th {\n",
       "        text-align: right;\n",
       "    }\n",
       "</style>\n",
       "<table border=\"1\" class=\"dataframe\">\n",
       "  <thead>\n",
       "    <tr style=\"text-align: right;\">\n",
       "      <th></th>\n",
       "      <th>count</th>\n",
       "      <th>unique</th>\n",
       "      <th>top</th>\n",
       "      <th>freq</th>\n",
       "      <th>mean</th>\n",
       "      <th>std</th>\n",
       "      <th>min</th>\n",
       "      <th>25%</th>\n",
       "      <th>50%</th>\n",
       "      <th>75%</th>\n",
       "      <th>max</th>\n",
       "    </tr>\n",
       "  </thead>\n",
       "  <tbody>\n",
       "    <tr>\n",
       "      <th>User_id</th>\n",
       "      <td>1923177.0</td>\n",
       "      <td>NaN</td>\n",
       "      <td>NaN</td>\n",
       "      <td>NaN</td>\n",
       "      <td>7.511287</td>\n",
       "      <td>4.175452</td>\n",
       "      <td>1.0</td>\n",
       "      <td>4.0</td>\n",
       "      <td>7.0</td>\n",
       "      <td>11.0</td>\n",
       "      <td>15.0</td>\n",
       "    </tr>\n",
       "    <tr>\n",
       "      <th>x_acceleration</th>\n",
       "      <td>1923177.0</td>\n",
       "      <td>NaN</td>\n",
       "      <td>NaN</td>\n",
       "      <td>NaN</td>\n",
       "      <td>1987.478876</td>\n",
       "      <td>111.340810</td>\n",
       "      <td>282.0</td>\n",
       "      <td>1904.0</td>\n",
       "      <td>1992.0</td>\n",
       "      <td>2076.0</td>\n",
       "      <td>3828.0</td>\n",
       "    </tr>\n",
       "    <tr>\n",
       "      <th>y_acceleration</th>\n",
       "      <td>1923177.0</td>\n",
       "      <td>NaN</td>\n",
       "      <td>NaN</td>\n",
       "      <td>NaN</td>\n",
       "      <td>2382.299610</td>\n",
       "      <td>100.210725</td>\n",
       "      <td>2.0</td>\n",
       "      <td>2337.0</td>\n",
       "      <td>2367.0</td>\n",
       "      <td>2412.0</td>\n",
       "      <td>4095.0</td>\n",
       "    </tr>\n",
       "    <tr>\n",
       "      <th>z_acceleration</th>\n",
       "      <td>1923177.0</td>\n",
       "      <td>NaN</td>\n",
       "      <td>NaN</td>\n",
       "      <td>NaN</td>\n",
       "      <td>1970.488387</td>\n",
       "      <td>94.491207</td>\n",
       "      <td>1.0</td>\n",
       "      <td>1918.0</td>\n",
       "      <td>1988.0</td>\n",
       "      <td>2032.0</td>\n",
       "      <td>4095.0</td>\n",
       "    </tr>\n",
       "    <tr>\n",
       "      <th>Label</th>\n",
       "      <td>1923177.0</td>\n",
       "      <td>7.0</td>\n",
       "      <td>1.0</td>\n",
       "      <td>608667.0</td>\n",
       "      <td>NaN</td>\n",
       "      <td>NaN</td>\n",
       "      <td>NaN</td>\n",
       "      <td>NaN</td>\n",
       "      <td>NaN</td>\n",
       "      <td>NaN</td>\n",
       "      <td>NaN</td>\n",
       "    </tr>\n",
       "  </tbody>\n",
       "</table>\n",
       "</div>"
      ],
      "text/plain": [
       "                    count  unique  top      freq         mean         std  \\\n",
       "User_id         1923177.0     NaN  NaN       NaN     7.511287    4.175452   \n",
       "x_acceleration  1923177.0     NaN  NaN       NaN  1987.478876  111.340810   \n",
       "y_acceleration  1923177.0     NaN  NaN       NaN  2382.299610  100.210725   \n",
       "z_acceleration  1923177.0     NaN  NaN       NaN  1970.488387   94.491207   \n",
       "Label           1923177.0     7.0  1.0  608667.0          NaN         NaN   \n",
       "\n",
       "                  min     25%     50%     75%     max  \n",
       "User_id           1.0     4.0     7.0    11.0    15.0  \n",
       "x_acceleration  282.0  1904.0  1992.0  2076.0  3828.0  \n",
       "y_acceleration    2.0  2337.0  2367.0  2412.0  4095.0  \n",
       "z_acceleration    1.0  1918.0  1988.0  2032.0  4095.0  \n",
       "Label             NaN     NaN     NaN     NaN     NaN  "
      ]
     },
     "execution_count": 33,
     "metadata": {},
     "output_type": "execute_result"
    }
   ],
   "source": [
    "data.describe(include='all').transpose()"
   ]
  },
  {
   "cell_type": "code",
   "execution_count": null,
   "id": "629491ce",
   "metadata": {},
   "outputs": [],
   "source": [
    "#Data Cleaning & EDA"
   ]
  },
  {
   "cell_type": "code",
   "execution_count": 7,
   "id": "18babed0",
   "metadata": {},
   "outputs": [
    {
     "data": {
      "text/plain": [
       "9     166741\n",
       "7     163001\n",
       "1     162501\n",
       "5     160001\n",
       "6     140901\n",
       "2     138001\n",
       "8     138001\n",
       "10    126801\n",
       "4     122201\n",
       "14    116101\n",
       "12    114702\n",
       "11    104451\n",
       "15    103501\n",
       "3     102341\n",
       "13     67651\n",
       "Name: User_id, dtype: int64"
      ]
     },
     "execution_count": 7,
     "metadata": {},
     "output_type": "execute_result"
    }
   ],
   "source": [
    "data.User_id.value_counts()"
   ]
  },
  {
   "cell_type": "code",
   "execution_count": 8,
   "id": "80bcd8e5",
   "metadata": {},
   "outputs": [
    {
     "name": "stderr",
     "output_type": "stream",
     "text": [
      "/opt/anaconda3/lib/python3.8/site-packages/seaborn/_decorators.py:36: FutureWarning: Pass the following variable as a keyword arg: x. From version 0.12, the only valid positional argument will be `data`, and passing other arguments without an explicit keyword will result in an error or misinterpretation.\n",
      "  warnings.warn(\n"
     ]
    },
    {
     "data": {
      "image/png": "[encoded data removed]",
      "text/plain": [
       "<Figure size 432x288 with 1 Axes>"
      ]
     },
     "metadata": {
      "needs_background": "light"
     },
     "output_type": "display_data"
    }
   ],
   "source": [
    "# Data Spread among user ID\n",
    "sns.countplot(\"User_id\",data=data)\n",
    "plt.xlabel(\"User_id\")\n",
    "plt.ylabel(\"Count\")\n",
    "plt.show()"
   ]
  },
  {
   "cell_type": "code",
   "execution_count": 9,
   "id": "a809cd3e",
   "metadata": {},
   "outputs": [
    {
     "data": {
      "text/plain": [
       "0      3719\n",
       "6     47770\n",
       "2     47878\n",
       "5     51498\n",
       "3    216737\n",
       "4    357064\n",
       "7    593563\n",
       "1    608667\n",
       "Name: Label, dtype: int64"
      ]
     },
     "execution_count": 9,
     "metadata": {},
     "output_type": "execute_result"
    }
   ],
   "source": [
    "data.Label.value_counts().sort_values()"
   ]
  },
  {
   "cell_type": "code",
   "execution_count": 10,
   "id": "21c6f4e3",
   "metadata": {},
   "outputs": [
    {
     "name": "stderr",
     "output_type": "stream",
     "text": [
      "/opt/anaconda3/lib/python3.8/site-packages/seaborn/_decorators.py:36: FutureWarning: Pass the following variable as a keyword arg: x. From version 0.12, the only valid positional argument will be `data`, and passing other arguments without an explicit keyword will result in an error or misinterpretation.\n",
      "  warnings.warn(\n"
     ]
    },
    {
     "data": {
      "image/png": "[encoded data removed]",
      "text/plain": [
       "<Figure size 432x288 with 1 Axes>"
      ]
     },
     "metadata": {
      "needs_background": "light"
     },
     "output_type": "display_data"
    }
   ],
   "source": [
    "# Data Spread among the Label\n",
    "sns.countplot(\"Label\",data=data)\n",
    "plt.xlabel(\"Activity\")\n",
    "plt.ylabel(\"Count\")\n",
    "plt.show()"
   ]
  },
  {
   "cell_type": "code",
   "execution_count": 11,
   "id": "b7ba5a54",
   "metadata": {},
   "outputs": [
    {
     "data": {
      "image/png": "[encoded data removed]",
      "text/plain": [
       "<Figure size 1080x432 with 1 Axes>"
      ]
     },
     "metadata": {
      "needs_background": "light"
     },
     "output_type": "display_data"
    }
   ],
   "source": [
    "# User and Label data spread\n",
    "x=pd.crosstab(data.User_id,data.Label)\n",
    "x.style.highlight_max(axis=1,color=\"red\").highlight_min(axis=1,color=\"blue\")\n",
    "x.plot(kind=\"bar\",stacked=True,figsize=(15,6))\n",
    "plt.title('Time spent')\n",
    "plt.xlabel('User id')\n",
    "plt.ylabel('Count')\n",
    "plt.show()"
   ]
  },
  {
   "cell_type": "code",
   "execution_count": null,
   "id": "01dab909",
   "metadata": {},
   "outputs": [],
   "source": [
    "#Remove activity '0' as there is no specified Label as '0'\n",
    "#This label is seen from the user '9'"
   ]
  },
  {
   "cell_type": "code",
   "execution_count": 18,
   "id": "26a38f93",
   "metadata": {},
   "outputs": [
    {
     "data": {
      "text/plain": [
       "(3719, 5)"
      ]
     },
     "execution_count": 18,
     "metadata": {},
     "output_type": "execute_result"
    }
   ],
   "source": [
    "data[data.Label == 0].shape\n",
    "\n",
    "#There are 3719 data with unspecified label. Drop the rows"
   ]
  },
  {
   "cell_type": "code",
   "execution_count": 16,
   "id": "0b77f39b",
   "metadata": {},
   "outputs": [
    {
     "data": {
      "text/plain": [
       "(1926896, 5)"
      ]
     },
     "execution_count": 16,
     "metadata": {},
     "output_type": "execute_result"
    }
   ],
   "source": [
    "data.shape"
   ]
  },
  {
   "cell_type": "code",
   "execution_count": 7,
   "id": "fcb1573e",
   "metadata": {},
   "outputs": [],
   "source": [
    "index = data[data.Label == 0].index\n",
    "data.drop(index , inplace=True)"
   ]
  },
  {
   "cell_type": "code",
   "execution_count": 8,
   "id": "e1a97218",
   "metadata": {},
   "outputs": [
    {
     "data": {
      "text/plain": [
       "(1923177, 5)"
      ]
     },
     "execution_count": 8,
     "metadata": {},
     "output_type": "execute_result"
    }
   ],
   "source": [
    "data.shape"
   ]
  },
  {
   "cell_type": "code",
   "execution_count": 26,
   "id": "274faee5",
   "metadata": {},
   "outputs": [
    {
     "name": "stderr",
     "output_type": "stream",
     "text": [
      "/opt/anaconda3/lib/python3.8/site-packages/seaborn/_decorators.py:36: FutureWarning: Pass the following variable as a keyword arg: x. From version 0.12, the only valid positional argument will be `data`, and passing other arguments without an explicit keyword will result in an error or misinterpretation.\n",
      "  warnings.warn(\n"
     ]
    },
    {
     "data": {
      "image/png": "[encoded data removed]",
      "text/plain": [
       "<Figure size 432x288 with 1 Axes>"
      ]
     },
     "metadata": {
      "needs_background": "light"
     },
     "output_type": "display_data"
    }
   ],
   "source": [
    "# Data Spread among the Label\n",
    "sns.countplot(\"Label\",data=data)\n",
    "plt.xlabel(\"Activity\")\n",
    "plt.ylabel(\"Count\")\n",
    "plt.show()"
   ]
  },
  {
   "cell_type": "code",
   "execution_count": null,
   "id": "eda1cb92",
   "metadata": {},
   "outputs": [],
   "source": [
    "# Data Spread Among Columns"
   ]
  },
  {
   "cell_type": "code",
   "execution_count": 77,
   "id": "c514a521",
   "metadata": {},
   "outputs": [
    {
     "data": {
      "image/png": "[encoded data removed]",
      "text/plain": [
       "<Figure size 1152x576 with 3 Axes>"
      ]
     },
     "metadata": {
      "needs_background": "light"
     },
     "output_type": "display_data"
    }
   ],
   "source": [
    "plt.figure(figsize=(16,8))\n",
    "plt.subplot(2,2,1)\n",
    "sns.distplot(data['x_acceleration'])\n",
    "plt.subplot(2,2,2)\n",
    "sns.distplot(data['y_acceleration'])\n",
    "plt.subplot(2,2,3)\n",
    "sns.distplot(data['z_acceleration'])\n",
    "plt.show()"
   ]
  },
  {
   "cell_type": "code",
   "execution_count": 78,
   "id": "4498afe8",
   "metadata": {
    "scrolled": true
   },
   "outputs": [
    {
     "data": {
      "image/png": "[encoded data removed]",
      "text/plain": [
       "<Figure size 1152x576 with 3 Axes>"
      ]
     },
     "metadata": {
      "needs_background": "light"
     },
     "output_type": "display_data"
    }
   ],
   "source": [
    "#Box plot to see for data spread and outliers in the columns\n",
    "\n",
    "plt.figure(figsize=(16,8))\n",
    "plt.subplot(2,2,1)\n",
    "sns.boxplot(data['x_acceleration'])\n",
    "plt.subplot(2,2,2)\n",
    "sns.boxplot(data['y_acceleration'])\n",
    "plt.subplot(2,2,3)\n",
    "sns.boxplot(data['z_acceleration'])\n",
    "plt.show()"
   ]
  },
  {
   "cell_type": "code",
   "execution_count": 84,
   "id": "571b33d9",
   "metadata": {},
   "outputs": [
    {
     "data": {
      "text/plain": [
       "(7, 5)"
      ]
     },
     "execution_count": 84,
     "metadata": {},
     "output_type": "execute_result"
    }
   ],
   "source": [
    "data[data.x_acceleration > 3600].shape"
   ]
  },
  {
   "cell_type": "code",
   "execution_count": 86,
   "id": "4682d28e",
   "metadata": {},
   "outputs": [
    {
     "data": {
      "text/plain": [
       "(16, 5)"
      ]
     },
     "execution_count": 86,
     "metadata": {},
     "output_type": "execute_result"
    }
   ],
   "source": [
    "data[data.z_acceleration > 3600].shape"
   ]
  },
  {
   "cell_type": "code",
   "execution_count": 88,
   "id": "d2960346",
   "metadata": {},
   "outputs": [
    {
     "data": {
      "text/plain": [
       "(1923177, 5)"
      ]
     },
     "execution_count": 88,
     "metadata": {},
     "output_type": "execute_result"
    }
   ],
   "source": [
    "data.shape"
   ]
  },
  {
   "cell_type": "code",
   "execution_count": null,
   "id": "ae472f85",
   "metadata": {},
   "outputs": [],
   "source": [
    "#Small trimming of ouliers in x and z columns (21 records)"
   ]
  },
  {
   "cell_type": "code",
   "execution_count": 9,
   "id": "f1b2b465",
   "metadata": {},
   "outputs": [],
   "source": [
    "index = data[data.x_acceleration > 3600].index\n",
    "data.drop(index , inplace=True)"
   ]
  },
  {
   "cell_type": "code",
   "execution_count": 90,
   "id": "0531218e",
   "metadata": {},
   "outputs": [
    {
     "data": {
      "text/plain": [
       "(1923170, 5)"
      ]
     },
     "execution_count": 90,
     "metadata": {},
     "output_type": "execute_result"
    }
   ],
   "source": [
    "data.shape"
   ]
  },
  {
   "cell_type": "code",
   "execution_count": 10,
   "id": "5d06263b",
   "metadata": {},
   "outputs": [],
   "source": [
    "index = data[data.z_acceleration > 3600].index\n",
    "data.drop(index , inplace=True)"
   ]
  },
  {
   "cell_type": "code",
   "execution_count": 92,
   "id": "8c69d2ab",
   "metadata": {},
   "outputs": [
    {
     "data": {
      "text/plain": [
       "(1923154, 5)"
      ]
     },
     "execution_count": 92,
     "metadata": {},
     "output_type": "execute_result"
    }
   ],
   "source": [
    "data.shape"
   ]
  },
  {
   "cell_type": "code",
   "execution_count": 93,
   "id": "3043994a",
   "metadata": {},
   "outputs": [
    {
     "data": {
      "image/png": "[encoded data removed]",
      "text/plain": [
       "<Figure size 1152x576 with 3 Axes>"
      ]
     },
     "metadata": {
      "needs_background": "light"
     },
     "output_type": "display_data"
    }
   ],
   "source": [
    "#Box plot after trimming\n",
    "\n",
    "plt.figure(figsize=(16,8))\n",
    "plt.subplot(2,2,1)\n",
    "sns.boxplot(data['x_acceleration'])\n",
    "plt.subplot(2,2,2)\n",
    "sns.boxplot(data['y_acceleration'])\n",
    "plt.subplot(2,2,3)\n",
    "sns.boxplot(data['z_acceleration'])\n",
    "plt.show()"
   ]
  },
  {
   "cell_type": "code",
   "execution_count": null,
   "id": "455f9949",
   "metadata": {},
   "outputs": [],
   "source": [
    "# Model Building "
   ]
  },
  {
   "cell_type": "code",
   "execution_count": 11,
   "id": "2557caa9",
   "metadata": {},
   "outputs": [],
   "source": [
    "#Stratified sampling for computational limitations\n",
    "df = data.groupby('Label', group_keys=False).apply(lambda x: x.sample(frac=0.5))"
   ]
  },
  {
   "cell_type": "code",
   "execution_count": 115,
   "id": "943ff871",
   "metadata": {},
   "outputs": [
    {
     "data": {
      "image/png": "[encoded data removed]",
      "text/plain": [
       "<Figure size 1152x576 with 4 Axes>"
      ]
     },
     "metadata": {
      "needs_background": "light"
     },
     "output_type": "display_data"
    }
   ],
   "source": [
    "#comparison of actula data and sampled data spread\n",
    "plt.figure(figsize=(16,8))\n",
    "plt.subplot(2,2,1)\n",
    "sns.distplot(data['x_acceleration'])\n",
    "plt.subplot(2,2,2)\n",
    "sns.distplot(df['x_acceleration'])\n",
    "plt.subplot(2,2,3)\n",
    "sns.distplot(data['y_acceleration'])\n",
    "plt.subplot(2,2,4)\n",
    "sns.distplot(df['y_acceleration'])\n",
    "plt.show()"
   ]
  },
  {
   "cell_type": "code",
   "execution_count": 116,
   "id": "01b7aa45",
   "metadata": {},
   "outputs": [
    {
     "data": {
      "image/png": "[encoded data removed]",
      "text/plain": [
       "<Figure size 1152x360 with 2 Axes>"
      ]
     },
     "metadata": {
      "needs_background": "light"
     },
     "output_type": "display_data"
    }
   ],
   "source": [
    "plt.figure(figsize=(16,5))\n",
    "plt.subplot(1,2,1)\n",
    "sns.distplot(data['z_acceleration'])\n",
    "plt.subplot(1,2,2)\n",
    "sns.distplot(df['z_acceleration'])\n",
    "plt.show()"
   ]
  },
  {
   "cell_type": "code",
   "execution_count": null,
   "id": "94348dca",
   "metadata": {},
   "outputs": [],
   "source": [
    "# From the above can see the distribution for Source data set and sample is maintained.\n",
    "# Thus the sample depicts the population"
   ]
  },
  {
   "cell_type": "code",
   "execution_count": 124,
   "id": "2d35faad",
   "metadata": {},
   "outputs": [],
   "source": [
    "X =  data.iloc[:,1:4]\n",
    "y = data.loc[:,'Label']"
   ]
  },
  {
   "cell_type": "code",
   "execution_count": null,
   "id": "bc136f83",
   "metadata": {},
   "outputs": [],
   "source": []
  },
  {
   "cell_type": "code",
   "execution_count": 28,
   "id": "1024f543",
   "metadata": {},
   "outputs": [],
   "source": [
    "%matplotlib inline\n",
    "import numpy as np\n",
    "import pandas as pd\n",
    "from sklearn.tree import DecisionTreeClassifier\n",
    "from sklearn.ensemble import RandomForestClassifier,GradientBoostingClassifier,AdaBoostClassifier,VotingClassifier,BaggingClassifier\n",
    "from sklearn.preprocessing import StandardScaler\n",
    "from sklearn.linear_model import LogisticRegression\n",
    "from sklearn.neighbors import KNeighborsClassifier\n",
    "from sklearn import model_selection\n",
    "from sklearn import metrics\n",
    "from sklearn.metrics import accuracy_score, f1_score, precision_score, recall_score, classification_report, confusion_matrix\n",
    "from scipy.stats import zscore\n",
    "import matplotlib.pyplot as plt \n",
    "from sklearn.linear_model import LogisticRegression\n",
    "from sklearn.model_selection import train_test_split\n",
    "import warnings\n",
    "warnings.filterwarnings('ignore')\n",
    "import seaborn as sns"
   ]
  },
  {
   "cell_type": "code",
   "execution_count": 120,
   "id": "38f8e3d5",
   "metadata": {},
   "outputs": [],
   "source": [
    "#Models for comaprison\n",
    "dt_full=DecisionTreeClassifier(criterion='entropy',random_state=0)#fully grown tree (high bias error and var error)\n",
    "bg = BaggingClassifier(base_estimator=dt_full,random_state=0,n_estimators=100)\n",
    "rf = RandomForestClassifier(n_estimators=51,criterion='entropy',random_state=0)\n",
    "ab = AdaBoostClassifier(n_estimators=51,random_state=0)\n",
    "gb = GradientBoostingClassifier(n_estimators=90,random_state=0)\n",
    "vc = VotingClassifier(estimators = [('ab',ab),('rf',rf),('gb', gb)])"
   ]
  },
  {
   "cell_type": "code",
   "execution_count": 121,
   "id": "34b73ea7",
   "metadata": {},
   "outputs": [],
   "source": [
    "models = []\n",
    "models.append(('dt_full', dt_full))\n",
    "models.append(('bg', bg))\n",
    "models.append(('rf', rf))\n",
    "models.append(('ab', ab))\n",
    "models.append(('gb', gb))\n",
    "models.append(('vc', vc))\n"
   ]
  },
  {
   "cell_type": "code",
   "execution_count": 122,
   "id": "87825d6e",
   "metadata": {},
   "outputs": [],
   "source": [
    "X =  df.iloc[:,1:4]\n",
    "y = df.loc[:,'Label']"
   ]
  },
  {
   "cell_type": "code",
   "execution_count": 123,
   "id": "d5885b19",
   "metadata": {},
   "outputs": [
    {
     "name": "stdout",
     "output_type": "stream",
     "text": [
      "dt_full: 0.538462 (0.137730)\n",
      "bg: 0.599110 (0.141696)\n",
      "rf: 0.606615 (0.147424)\n",
      "ab: 0.326290 (0.174337)\n",
      "gb: 0.519482 (0.167303)\n",
      "vc: 0.520747 (0.187194)\n"
     ]
    },
    {
     "data": {
      "image/png": "[encoded data removed]",
      "text/plain": [
       "<Figure size 432x288 with 1 Axes>"
      ]
     },
     "metadata": {
      "needs_background": "light"
     },
     "output_type": "display_data"
    }
   ],
   "source": [
    "# model choosing based on accuracy\n",
    "results = []\n",
    "names = []\n",
    "scoring = 'accuracy'\n",
    "for name, model in models:\n",
    "\tkfold = model_selection.KFold(n_splits=5)\n",
    "\tcv_results = model_selection.cross_val_score(model, X, y, cv=kfold, scoring=scoring)\n",
    "\tresults.append(cv_results)\n",
    "\tnames.append(name)\n",
    "\tmsg = \"%s: %f (%f)\" % (name, np.mean(cv_results), cv_results.std())\n",
    "\tprint(msg)\n",
    "# boxplot algorithm comparison\n",
    "fig = plt.figure()\n",
    "fig.suptitle('Algorithm Comparison')\n",
    "ax = fig.add_subplot(111)\n",
    "plt.boxplot(results)\n",
    "ax.set_xticklabels(names)\n",
    "plt.show()"
   ]
  },
  {
   "cell_type": "code",
   "execution_count": null,
   "id": "c0fc0888",
   "metadata": {},
   "outputs": [],
   "source": [
    "#Random forest performs better for the data and hence its chosen. Also random forest is not prone to outliers"
   ]
  },
  {
   "cell_type": "code",
   "execution_count": 125,
   "id": "663e4308",
   "metadata": {},
   "outputs": [
    {
     "name": "stdout",
     "output_type": "stream",
     "text": [
      "Testing Accuracy\n",
      "0.7244475874279505\n",
      "Training Accuracy\n",
      "0.9560637052549751\n",
      "[[109320   1228   1360   4039    144     94   5483]\n",
      " [  3750   1833    514   2042     34     27   1507]\n",
      " [  2477    214  19417   9739   1061    636   9830]\n",
      " [  5299    292   4248  51932    421    300   9237]\n",
      " [   867     24   1818   4105   1424    193   1807]\n",
      " [   457     41   1074   1767    310   2158   3677]\n",
      " [  5227    320   5449   8189    515   1411  97320]]\n",
      "The Metrics are\n",
      "[0.85810498 0.46381579 0.57311098 0.63476465 0.36428754 0.44781075\n",
      " 0.75523238]\n",
      "[0.8985107  0.1888328  0.4476645  0.72400284 0.13908967 0.22754112\n",
      " 0.82174431]\n",
      "[0.87784313 0.26839447 0.50267947 0.67645335 0.20131477 0.30175488\n",
      " 0.78708571]\n"
     ]
    }
   ],
   "source": [
    "#Base line model with no hyperparameter tuning\n",
    "\n",
    "X_train, X_test, y_train, y_test = train_test_split(X, y, test_size=0.20,random_state=10)\n",
    "rfc=RandomForestClassifier(n_estimators=100,random_state=10)\n",
    "sc=StandardScaler()\n",
    "sc.fit(X_train)\n",
    "scaledX_train = sc.transform(X_train)\n",
    "# scaledX_train = sc.fit_transform(X_train)\n",
    "scaledX_test = sc.transform(X_test)\n",
    "rfc.fit(scaledX_train,y_train)\n",
    "print(\"Testing Accuracy\")\n",
    "print(rfc.score(scaledX_test,y_test))\n",
    "print(\"Training Accuracy\")\n",
    "print(rfc.score(scaledX_train,y_train))\n",
    "predicted = knn.predict(scaledX_test)\n",
    "print(confusion_matrix(y_test,predicted))\n",
    "print(\"The Metrics are\")\n",
    "print(precision_score(y_test,predicted,average=None))\n",
    "print(recall_score(y_test,predicted,average=None))\n",
    "print(f1_score(y_test,predicted,average=None))"
   ]
  },
  {
   "cell_type": "code",
   "execution_count": 108,
   "id": "254eb7bb",
   "metadata": {},
   "outputs": [
    {
     "name": "stdout",
     "output_type": "stream",
     "text": [
      "[0.7296173  0.72233777 0.72597754 0.72400166 0.72899334 0.72524958\n",
      " 0.72410566 0.73614145 0.72553302 0.72553302]\n"
     ]
    }
   ],
   "source": [
    "#Cross validation to compute Variance and Bias of the model\n",
    "from sklearn.model_selection import cross_val_score\n",
    "scoresrf = cross_val_score(rfc, X, y, cv=10, scoring='accuracy')\n",
    "print(scoresrf)"
   ]
  },
  {
   "cell_type": "code",
   "execution_count": 137,
   "id": "b45e9e08",
   "metadata": {},
   "outputs": [],
   "source": [
    "#For hyperpatameter tuning sampling is done to avoid the computational limits\n",
    "#sample df is used\n",
    "df1 = data.groupby('Label', group_keys=False).apply(lambda x: x.sample(frac=0.01))"
   ]
  },
  {
   "cell_type": "code",
   "execution_count": 138,
   "id": "2b824dcf",
   "metadata": {},
   "outputs": [
    {
     "data": {
      "text/plain": [
       "(19232, 5)"
      ]
     },
     "execution_count": 138,
     "metadata": {},
     "output_type": "execute_result"
    }
   ],
   "source": [
    "df1.shape"
   ]
  },
  {
   "cell_type": "code",
   "execution_count": 139,
   "id": "cbc7af7d",
   "metadata": {},
   "outputs": [],
   "source": [
    "X =  df1.iloc[:,1:4]\n",
    "y = df1.loc[:,'Label']"
   ]
  },
  {
   "cell_type": "code",
   "execution_count": 140,
   "id": "8a4d1370",
   "metadata": {},
   "outputs": [],
   "source": [
    "X_train, X_test, y_train, y_test = train_test_split(X, y, test_size=0.20,random_state=10)\n",
    "\n"
   ]
  },
  {
   "cell_type": "code",
   "execution_count": 141,
   "id": "c8ea92a3",
   "metadata": {},
   "outputs": [],
   "source": [
    "from sklearn.model_selection import RandomizedSearchCV\n",
    "n_estimators = [int(x) for x in np.linspace(start = 200, stop = 2000, num = 10)]\n",
    "max_features = ['auto', 'sqrt']\n",
    "max_depth = [int(x) for x in np.linspace(10, 110, num = 11)]\n",
    "max_depth.append(None)\n",
    "min_samples_split = [2, 5, 10]\n",
    "min_samples_leaf = [1, 2, 4]\n",
    "bootstrap = [True, False]"
   ]
  },
  {
   "cell_type": "code",
   "execution_count": 142,
   "id": "27d130e9",
   "metadata": {},
   "outputs": [],
   "source": [
    "# Parameter grid for tuning\n",
    "param_grid = {'n_estimators': n_estimators,\n",
    "               'max_features': max_features,\n",
    "               'max_depth': max_depth,\n",
    "               'min_samples_split': min_samples_split,\n",
    "               'min_samples_leaf': min_samples_leaf,\n",
    "               'bootstrap': bootstrap}"
   ]
  },
  {
   "cell_type": "code",
   "execution_count": 143,
   "id": "f95c412e",
   "metadata": {},
   "outputs": [],
   "source": [
    "rf_Model = RandomForestClassifier()"
   ]
  },
  {
   "cell_type": "code",
   "execution_count": 144,
   "id": "52d9b2ad",
   "metadata": {},
   "outputs": [],
   "source": [
    "from sklearn.model_selection import RandomizedSearchCV\n",
    "rf_RandomGrid = RandomizedSearchCV(estimator = rf_Model, \n",
    "                                   param_distributions = param_grid, cv = 5, verbose=2, n_jobs = 4)"
   ]
  },
  {
   "cell_type": "code",
   "execution_count": 145,
   "id": "92c4d85f",
   "metadata": {},
   "outputs": [
    {
     "name": "stdout",
     "output_type": "stream",
     "text": [
      "Fitting 5 folds for each of 10 candidates, totalling 50 fits\n"
     ]
    },
    {
     "data": {
      "text/plain": [
       "RandomizedSearchCV(cv=5, estimator=RandomForestClassifier(), n_jobs=4,\n",
       "                   param_distributions={'bootstrap': [True, False],\n",
       "                                        'max_depth': [10, 20, 30, 40, 50, 60,\n",
       "                                                      70, 80, 90, 100, 110,\n",
       "                                                      None],\n",
       "                                        'max_features': ['auto', 'sqrt'],\n",
       "                                        'min_samples_leaf': [1, 2, 4],\n",
       "                                        'min_samples_split': [2, 5, 10],\n",
       "                                        'n_estimators': [200, 400, 600, 800,\n",
       "                                                         1000, 1200, 1400, 1600,\n",
       "                                                         1800, 2000]},\n",
       "                   verbose=2)"
      ]
     },
     "execution_count": 145,
     "metadata": {},
     "output_type": "execute_result"
    }
   ],
   "source": [
    "\n",
    "rf_RandomGrid.fit(X_train, y_train)"
   ]
  },
  {
   "cell_type": "code",
   "execution_count": 147,
   "id": "9cc4860e",
   "metadata": {},
   "outputs": [
    {
     "data": {
      "text/plain": [
       "{'n_estimators': 400,\n",
       " 'min_samples_split': 2,\n",
       " 'min_samples_leaf': 4,\n",
       " 'max_features': 'sqrt',\n",
       " 'max_depth': 40,\n",
       " 'bootstrap': True}"
      ]
     },
     "execution_count": 147,
     "metadata": {},
     "output_type": "execute_result"
    }
   ],
   "source": [
    "#Best parmeters for model building \n",
    "rf_RandomGrid.best_params_\n"
   ]
  },
  {
   "cell_type": "code",
   "execution_count": 12,
   "id": "7852da8a",
   "metadata": {},
   "outputs": [],
   "source": [
    "df = data.groupby('Label', group_keys=False).apply(lambda x: x.sample(frac=0.5))"
   ]
  },
  {
   "cell_type": "code",
   "execution_count": 13,
   "id": "ea579b1f",
   "metadata": {},
   "outputs": [],
   "source": [
    "#Building the final model with the above output\n",
    "X =  df.iloc[:,1:4]\n",
    "y = df.loc[:,'Label']"
   ]
  },
  {
   "cell_type": "code",
   "execution_count": 20,
   "id": "eabb3ac5",
   "metadata": {},
   "outputs": [],
   "source": [
    "X_train, X_test, y_train, y_test = train_test_split(X, y, test_size=0.20,random_state=10)\n",
    "rfc=RandomForestClassifier(n_estimators=400,min_samples_split=2,min_samples_leaf=4,max_features='sqrt',\n",
    "                           max_depth=40,bootstrap=True,random_state=10)"
   ]
  },
  {
   "cell_type": "code",
   "execution_count": 21,
   "id": "8bdcc708",
   "metadata": {},
   "outputs": [],
   "source": [
    "sc=StandardScaler()\n",
    "sc.fit(X_train)\n",
    "scaledX_train = sc.transform(X_train)\n",
    "# scaledX_train = sc.fit_transform(X_train)\n",
    "scaledX_test = sc.transform(X_test)"
   ]
  },
  {
   "cell_type": "code",
   "execution_count": 22,
   "id": "ce73793e",
   "metadata": {},
   "outputs": [
    {
     "data": {
      "text/plain": [
       "RandomForestClassifier(max_depth=40, max_features='sqrt', min_samples_leaf=4,\n",
       "                       n_estimators=400, random_state=10)"
      ]
     },
     "execution_count": 22,
     "metadata": {},
     "output_type": "execute_result"
    }
   ],
   "source": [
    "rfc.fit(scaledX_train,y_train)"
   ]
  },
  {
   "cell_type": "code",
   "execution_count": 23,
   "id": "da313c4e",
   "metadata": {},
   "outputs": [
    {
     "name": "stdout",
     "output_type": "stream",
     "text": [
      "Testing Accuracy\n",
      "0.7502755880945943\n"
     ]
    }
   ],
   "source": [
    "print(\"Testing Accuracy\")\n",
    "print(rfc.score(scaledX_test,y_test))"
   ]
  },
  {
   "cell_type": "code",
   "execution_count": 24,
   "id": "efce8cb3",
   "metadata": {},
   "outputs": [
    {
     "name": "stdout",
     "output_type": "stream",
     "text": [
      "Training Accuracy\n",
      "0.8163666167919601\n"
     ]
    }
   ],
   "source": [
    "print(\"Training Accuracy\")\n",
    "print(rfc.score(scaledX_train,y_train))"
   ]
  },
  {
   "cell_type": "code",
   "execution_count": null,
   "id": "d797b85f",
   "metadata": {},
   "outputs": [],
   "source": [
    "#The training and testing accuracy has increased from base line model"
   ]
  },
  {
   "cell_type": "code",
   "execution_count": 25,
   "id": "c5573f48",
   "metadata": {},
   "outputs": [],
   "source": [
    "predicted = rfc.predict(scaledX_test)"
   ]
  },
  {
   "cell_type": "code",
   "execution_count": 27,
   "id": "705b824d",
   "metadata": {},
   "outputs": [
    {
     "name": "stdout",
     "output_type": "stream",
     "text": [
      "[0.86951221 0.6042654  0.63358679 0.63409016 0.43865906 0.52818129\n",
      " 0.75343778]\n",
      "[0.90410891 0.16142646 0.44738654 0.75473493 0.11856564 0.19128788\n",
      " 0.84832199]\n",
      "[0.88647314 0.25478768 0.52444994 0.68917245 0.18667476 0.28085895\n",
      " 0.79806953]\n"
     ]
    }
   ],
   "source": [
    "\n",
    "print(precision_score(y_test,predicted,average=None))\n",
    "print(recall_score(y_test,predicted,average=None))\n",
    "print(f1_score(y_test,predicted,average=None))"
   ]
  },
  {
   "cell_type": "code",
   "execution_count": 37,
   "id": "3d57ec30",
   "metadata": {},
   "outputs": [],
   "source": [
    "#cross validation to have idea on the models Variance and Bias\n",
    "from sklearn.model_selection import cross_val_score\n",
    "scoresrf = cross_val_score(rfc, X, y, cv=5, scoring='accuracy')"
   ]
  },
  {
   "cell_type": "code",
   "execution_count": 38,
   "id": "41990109",
   "metadata": {},
   "outputs": [
    {
     "name": "stdout",
     "output_type": "stream",
     "text": [
      "[0.74925579 0.74798185 0.74793958 0.74957752 0.74775759]\n"
     ]
    }
   ],
   "source": [
    "print(scoresrf)"
   ]
  },
  {
   "cell_type": "code",
   "execution_count": null,
   "id": "4c1fa08a",
   "metadata": {},
   "outputs": [],
   "source": []
  },
  {
   "cell_type": "code",
   "execution_count": null,
   "id": "fa8813f4",
   "metadata": {},
   "outputs": [],
   "source": []
  },
  {
   "cell_type": "code",
   "execution_count": null,
   "id": "e89bf7e1",
   "metadata": {},
   "outputs": [],
   "source": []
  },
  {
   "cell_type": "code",
   "execution_count": null,
   "id": "771445f1",
   "metadata": {},
   "outputs": [],
   "source": []
  }
 ],
 "metadata": {
  "kernelspec": {
   "display_name": "Python 3",
   "language": "python",
   "name": "python3"
  },
  "language_info": {
   "codemirror_mode": {
    "name": "ipython",
    "version": 3
   },
   "file_extension": ".py",
   "mimetype": "text/x-python",
   "name": "python",
   "nbconvert_exporter": "python",
   "pygments_lexer": "ipython3",
   "version": "3.8.8"
  }
 },
 "nbformat": 4,
 "nbformat_minor": 5
}
